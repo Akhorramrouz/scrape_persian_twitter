{
 "cells": [
  {
   "cell_type": "code",
   "execution_count": 15,
   "id": "96a270ba",
   "metadata": {},
   "outputs": [],
   "source": [
    "# pip install snscrape\n",
    "\n",
    "import snscrape.modules.twitter as sntwitter\n",
    "import pandas as pd\n",
    "\n",
    "\n",
    "tweets = []\n",
    "c = 0\n",
    "\n",
    "query = f'(که OR از OR به OR با OR در) lang:fa since:2022-01-01 min_faves:149'\n",
    "for tweet in sntwitter.TwitterSearchScraper(query).get_items():\n",
    "    tweets.append({'date' : tweet.date,\n",
    "    'text' : tweet.rawContent,\n",
    "    'Id' : tweet.id,\n",
    "    'hashtags' : tweet.hashtags,\n",
    "    'mentionedUsers' : tweet.mentionedUsers,\n",
    "    'sourceLabel' : tweet.sourceLabel,\n",
    "    'sourceUrl' : tweet.sourceUrl,\n",
    "    'lang' : tweet.lang,\n",
    "    'likeCount' : tweet.likeCount,\n",
    "    'retweetCount' : tweet.retweetCount,\n",
    "    'replyCount' : tweet.replyCount,\n",
    "    'Username' : tweet.user.username,\n",
    "    \"User_id\" : tweet.user.id,\n",
    "    'User_description' : tweet.user.renderedDescription,\n",
    "    \"User_created\" : tweet.user.created,\n",
    "    \"UserfollowersCount\" : tweet.user.followersCount,\n",
    "    \"Userlocation\" : tweet.user.location,\n",
    "    'UserprofileBannerUrl' : tweet.user.profileBannerUrl,\n",
    "    \"UserprofileBannerUrl\" : tweet.user.profileBannerUrl,\n",
    "    \"USermediaCount\" : tweet.user.mediaCount,\n",
    "    \"UserfollowingCount\" : tweet.user.friendsCount})\n",
    "    c += 1\n",
    "    if c%10000 == 9999:\n",
    "        print(c)\n",
    "        print(tweet.date)\n",
    "        df = pd.DataFrame(tweets)\n",
    "        df.to_csv(f\"most_liked_index_{c}.csv\")\n",
    "        tweets = []\n",
    "    \n",
    "\n",
    "\n",
    "df = pd.DataFrame(tweets)\n",
    "df.to_csv(f\"most_liked_index_{c}_last.csv\")"
   ]
  }
 ],
 "metadata": {
  "kernelspec": {
   "display_name": "Python 3 (ipykernel)",
   "language": "python",
   "name": "python3"
  },
  "language_info": {
   "codemirror_mode": {
    "name": "ipython",
    "version": 3
   },
   "file_extension": ".py",
   "mimetype": "text/x-python",
   "name": "python",
   "nbconvert_exporter": "python",
   "pygments_lexer": "ipython3",
   "version": "3.9.13"
  }
 },
 "nbformat": 4,
 "nbformat_minor": 5
}
